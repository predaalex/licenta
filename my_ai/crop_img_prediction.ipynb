{
 "cells": [
  {
   "cell_type": "markdown",
   "id": "cef2cf12",
   "metadata": {},
   "source": [
    "## Clasificarea imaginilor folosind descriptori"
   ]
  },
  {
   "cell_type": "code",
   "execution_count": 50,
   "id": "2cd72e36",
   "metadata": {},
   "outputs": [],
   "source": [
    "import cv2 as cv\n",
    "import numpy as np\n",
    "from skimage.feature import hog\n",
    "from sklearn.svm import SVC, LinearSVC\n",
    "from sklearn.neighbors import KNeighborsClassifier\n",
    "from sklearn.metrics import confusion_matrix, accuracy_score\n",
    "from sklearn.svm import SVC, LinearSVC\n",
    "import glob\n",
    "import pdb\n",
    "from copy import deepcopy\n",
    "import torch\n",
    "import torch.nn as nn\n",
    "import torchvision.models as models\n",
    "import torchvision.transforms as transforms\n",
    "from torch.autograd import Variable\n",
    "from PIL import Image\n",
    "import os\n",
    "from joblib import dump, load"
   ]
  },
  {
   "cell_type": "code",
   "execution_count": 7,
   "outputs": [
    {
     "ename": "AttributeError",
     "evalue": "'list' object has no attribute 'all'",
     "output_type": "error",
     "traceback": [
      "\u001B[1;31m---------------------------------------------------------------------------\u001B[0m",
      "\u001B[1;31mAttributeError\u001B[0m                            Traceback (most recent call last)",
      "Cell \u001B[1;32mIn[7], line 7\u001B[0m\n\u001B[0;32m      5\u001B[0m \u001B[38;5;28;01mif\u001B[39;00m numpy\u001B[38;5;241m.\u001B[39marray_equal(arr,result):\n\u001B[0;32m      6\u001B[0m     \u001B[38;5;28mprint\u001B[39m(arr)\n\u001B[1;32m----> 7\u001B[0m \u001B[43marr\u001B[49m\u001B[38;5;241;43m.\u001B[39;49m\u001B[43mall\u001B[49m()\n",
      "\u001B[1;31mAttributeError\u001B[0m: 'list' object has no attribute 'all'"
     ]
    }
   ],
   "source": [
    "import numpy\n",
    "test = [[1,2,3], [1,2,4]]\n",
    "result = [1,2,4]\n",
    "for arr in test:\n",
    "    if numpy.array_equal(arr,result):\n",
    "        print(arr)\n",
    "    arr.all()"
   ],
   "metadata": {
    "collapsed": false
   }
  },
  {
   "cell_type": "markdown",
   "id": "6911d785",
   "metadata": {},
   "source": [
    "### Incarcarea imaginilor de antrenare"
   ]
  },
  {
   "cell_type": "code",
   "execution_count": 51,
   "id": "64a37cb9",
   "metadata": {},
   "outputs": [
    {
     "name": "stdout",
     "output_type": "stream",
     "text": [
      "['..\\\\resources\\\\train\\\\piese_portocalii', '..\\\\resources\\\\train\\\\piese_verzi', '..\\\\resources\\\\train\\\\pozitii_libere']\n"
     ]
    }
   ],
   "source": [
    "path = '..\\\\resources\\\\train\\\\'\n",
    "folders = glob.glob(path + '*')\n",
    "print(folders)"
   ]
  },
  {
   "cell_type": "code",
   "execution_count": 52,
   "id": "89b5f814",
   "metadata": {},
   "outputs": [],
   "source": [
    "train_images = []\n",
    "train_labels = []"
   ]
  },
  {
   "cell_type": "code",
   "execution_count": 53,
   "id": "96869efe",
   "metadata": {},
   "outputs": [
    {
     "name": "stdout",
     "output_type": "stream",
     "text": [
      "piese_portocalii\n",
      "piese_verzi\n",
      "pozitii_libere\n"
     ]
    }
   ],
   "source": [
    "folders = [\n",
    "    \"piese_portocalii\",\n",
    "    \"piese_verzi\",\n",
    "    \"pozitii_libere\"\n",
    "]\n",
    "for clas in folders:\n",
    "    # clas=f.replace(path,'')\n",
    "    print(clas)\n",
    "    files = glob.glob(path + clas + '\\\\*jpg')\n",
    "    for i in files:\n",
    "        image = cv.imread(i)\n",
    "        image = cv.resize(image, (50, 50), interpolation=cv.INTER_LINEAR)\n",
    "        img = np.asarray(image)\n",
    "        train_images.append(img)\n",
    "        train_labels.append(clas)\n",
    "train_images = np.array(train_images)\n",
    "train_labels = np.array(train_labels)"
   ]
  },
  {
   "cell_type": "code",
   "execution_count": 54,
   "id": "c975c8e1",
   "metadata": {},
   "outputs": [
    {
     "name": "stdout",
     "output_type": "stream",
     "text": [
      "(772, 50, 50, 3)\n",
      "(772,)\n"
     ]
    }
   ],
   "source": [
    "print(train_images.shape)\n",
    "print(train_labels.shape)"
   ]
  },
  {
   "cell_type": "markdown",
   "id": "7170268c",
   "metadata": {},
   "source": [
    "### Incarcarea imaginilor de testare"
   ]
  },
  {
   "cell_type": "code",
   "execution_count": 55,
   "id": "313ce5ab",
   "metadata": {},
   "outputs": [
    {
     "name": "stdout",
     "output_type": "stream",
     "text": [
      "['..\\\\resources\\\\test\\\\piese_portocalii', '..\\\\resources\\\\test\\\\piese_verzi', '..\\\\resources\\\\test\\\\pozitii_libere']\n"
     ]
    }
   ],
   "source": [
    "path = '..\\\\resources\\\\test\\\\'\n",
    "\n",
    "folders = glob.glob(path + '*')\n",
    "print(folders)"
   ]
  },
  {
   "cell_type": "code",
   "execution_count": 56,
   "id": "fb913eda",
   "metadata": {},
   "outputs": [],
   "source": [
    "test_images = []\n",
    "test_labels = []"
   ]
  },
  {
   "cell_type": "code",
   "execution_count": 57,
   "id": "207e18e5",
   "metadata": {},
   "outputs": [
    {
     "name": "stdout",
     "output_type": "stream",
     "text": [
      "piese_portocalii\n",
      "piese_verzi\n",
      "pozitii_libere\n"
     ]
    }
   ],
   "source": [
    "folders = [\n",
    "    \"piese_portocalii\",\n",
    "    \"piese_verzi\",\n",
    "    \"pozitii_libere\"\n",
    "]\n",
    "for clas in folders:\n",
    "    print(clas)\n",
    "    files = glob.glob(path + clas + '\\\\*jpg')\n",
    "    for i in files:\n",
    "        image = cv.imread(i)\n",
    "        image = cv.resize(image, (50, 50), interpolation=cv.INTER_LINEAR)\n",
    "        img = np.asarray(image)\n",
    "        test_images.append(img)\n",
    "        test_labels.append(clas)\n",
    "test_images = np.array(test_images)\n",
    "test_labels = np.array(test_labels)"
   ]
  },
  {
   "cell_type": "code",
   "execution_count": 58,
   "id": "a94595a3",
   "metadata": {},
   "outputs": [
    {
     "name": "stdout",
     "output_type": "stream",
     "text": [
      "(179, 50, 50, 3)\n",
      "(179,)\n"
     ]
    }
   ],
   "source": [
    "print(test_images.shape)\n",
    "print(test_labels.shape)"
   ]
  },
  {
   "cell_type": "markdown",
   "id": "b5f4128d",
   "metadata": {},
   "source": [
    "### Diferite tipuri de descriptori"
   ]
  },
  {
   "cell_type": "code",
   "execution_count": 59,
   "outputs": [
    {
     "name": "stderr",
     "output_type": "stream",
     "text": [
      "C:\\Users\\allex\\AppData\\Local\\Programs\\Python\\Python38\\lib\\site-packages\\torchvision\\models\\_utils.py:208: UserWarning: The parameter 'pretrained' is deprecated since 0.13 and may be removed in the future, please use 'weights' instead.\n",
      "  warnings.warn(\n",
      "C:\\Users\\allex\\AppData\\Local\\Programs\\Python\\Python38\\lib\\site-packages\\torchvision\\models\\_utils.py:223: UserWarning: Arguments other than a weight enum or `None` for 'weights' are deprecated since 0.13 and may be removed in the future. The current behavior is equivalent to passing `weights=ResNet18_Weights.IMAGENET1K_V1`. You can also use `weights=ResNet18_Weights.DEFAULT` to get the most up-to-date weights.\n",
      "  warnings.warn(msg)\n"
     ]
    },
    {
     "data": {
      "text/plain": "ResNet(\n  (conv1): Conv2d(3, 64, kernel_size=(7, 7), stride=(2, 2), padding=(3, 3), bias=False)\n  (bn1): BatchNorm2d(64, eps=1e-05, momentum=0.1, affine=True, track_running_stats=True)\n  (relu): ReLU(inplace=True)\n  (maxpool): MaxPool2d(kernel_size=3, stride=2, padding=1, dilation=1, ceil_mode=False)\n  (layer1): Sequential(\n    (0): BasicBlock(\n      (conv1): Conv2d(64, 64, kernel_size=(3, 3), stride=(1, 1), padding=(1, 1), bias=False)\n      (bn1): BatchNorm2d(64, eps=1e-05, momentum=0.1, affine=True, track_running_stats=True)\n      (relu): ReLU(inplace=True)\n      (conv2): Conv2d(64, 64, kernel_size=(3, 3), stride=(1, 1), padding=(1, 1), bias=False)\n      (bn2): BatchNorm2d(64, eps=1e-05, momentum=0.1, affine=True, track_running_stats=True)\n    )\n    (1): BasicBlock(\n      (conv1): Conv2d(64, 64, kernel_size=(3, 3), stride=(1, 1), padding=(1, 1), bias=False)\n      (bn1): BatchNorm2d(64, eps=1e-05, momentum=0.1, affine=True, track_running_stats=True)\n      (relu): ReLU(inplace=True)\n      (conv2): Conv2d(64, 64, kernel_size=(3, 3), stride=(1, 1), padding=(1, 1), bias=False)\n      (bn2): BatchNorm2d(64, eps=1e-05, momentum=0.1, affine=True, track_running_stats=True)\n    )\n  )\n  (layer2): Sequential(\n    (0): BasicBlock(\n      (conv1): Conv2d(64, 128, kernel_size=(3, 3), stride=(2, 2), padding=(1, 1), bias=False)\n      (bn1): BatchNorm2d(128, eps=1e-05, momentum=0.1, affine=True, track_running_stats=True)\n      (relu): ReLU(inplace=True)\n      (conv2): Conv2d(128, 128, kernel_size=(3, 3), stride=(1, 1), padding=(1, 1), bias=False)\n      (bn2): BatchNorm2d(128, eps=1e-05, momentum=0.1, affine=True, track_running_stats=True)\n      (downsample): Sequential(\n        (0): Conv2d(64, 128, kernel_size=(1, 1), stride=(2, 2), bias=False)\n        (1): BatchNorm2d(128, eps=1e-05, momentum=0.1, affine=True, track_running_stats=True)\n      )\n    )\n    (1): BasicBlock(\n      (conv1): Conv2d(128, 128, kernel_size=(3, 3), stride=(1, 1), padding=(1, 1), bias=False)\n      (bn1): BatchNorm2d(128, eps=1e-05, momentum=0.1, affine=True, track_running_stats=True)\n      (relu): ReLU(inplace=True)\n      (conv2): Conv2d(128, 128, kernel_size=(3, 3), stride=(1, 1), padding=(1, 1), bias=False)\n      (bn2): BatchNorm2d(128, eps=1e-05, momentum=0.1, affine=True, track_running_stats=True)\n    )\n  )\n  (layer3): Sequential(\n    (0): BasicBlock(\n      (conv1): Conv2d(128, 256, kernel_size=(3, 3), stride=(2, 2), padding=(1, 1), bias=False)\n      (bn1): BatchNorm2d(256, eps=1e-05, momentum=0.1, affine=True, track_running_stats=True)\n      (relu): ReLU(inplace=True)\n      (conv2): Conv2d(256, 256, kernel_size=(3, 3), stride=(1, 1), padding=(1, 1), bias=False)\n      (bn2): BatchNorm2d(256, eps=1e-05, momentum=0.1, affine=True, track_running_stats=True)\n      (downsample): Sequential(\n        (0): Conv2d(128, 256, kernel_size=(1, 1), stride=(2, 2), bias=False)\n        (1): BatchNorm2d(256, eps=1e-05, momentum=0.1, affine=True, track_running_stats=True)\n      )\n    )\n    (1): BasicBlock(\n      (conv1): Conv2d(256, 256, kernel_size=(3, 3), stride=(1, 1), padding=(1, 1), bias=False)\n      (bn1): BatchNorm2d(256, eps=1e-05, momentum=0.1, affine=True, track_running_stats=True)\n      (relu): ReLU(inplace=True)\n      (conv2): Conv2d(256, 256, kernel_size=(3, 3), stride=(1, 1), padding=(1, 1), bias=False)\n      (bn2): BatchNorm2d(256, eps=1e-05, momentum=0.1, affine=True, track_running_stats=True)\n    )\n  )\n  (layer4): Sequential(\n    (0): BasicBlock(\n      (conv1): Conv2d(256, 512, kernel_size=(3, 3), stride=(2, 2), padding=(1, 1), bias=False)\n      (bn1): BatchNorm2d(512, eps=1e-05, momentum=0.1, affine=True, track_running_stats=True)\n      (relu): ReLU(inplace=True)\n      (conv2): Conv2d(512, 512, kernel_size=(3, 3), stride=(1, 1), padding=(1, 1), bias=False)\n      (bn2): BatchNorm2d(512, eps=1e-05, momentum=0.1, affine=True, track_running_stats=True)\n      (downsample): Sequential(\n        (0): Conv2d(256, 512, kernel_size=(1, 1), stride=(2, 2), bias=False)\n        (1): BatchNorm2d(512, eps=1e-05, momentum=0.1, affine=True, track_running_stats=True)\n      )\n    )\n    (1): BasicBlock(\n      (conv1): Conv2d(512, 512, kernel_size=(3, 3), stride=(1, 1), padding=(1, 1), bias=False)\n      (bn1): BatchNorm2d(512, eps=1e-05, momentum=0.1, affine=True, track_running_stats=True)\n      (relu): ReLU(inplace=True)\n      (conv2): Conv2d(512, 512, kernel_size=(3, 3), stride=(1, 1), padding=(1, 1), bias=False)\n      (bn2): BatchNorm2d(512, eps=1e-05, momentum=0.1, affine=True, track_running_stats=True)\n    )\n  )\n  (avgpool): AdaptiveAvgPool2d(output_size=(1, 1))\n  (fc): Linear(in_features=512, out_features=1000, bias=True)\n)"
     },
     "execution_count": 59,
     "metadata": {},
     "output_type": "execute_result"
    }
   ],
   "source": [
    "model = models.resnet18(pretrained=True)\n",
    "layer = model._modules.get('avgpool')\n",
    "model.eval()\n",
    "# print(model)"
   ],
   "metadata": {
    "collapsed": false
   }
  },
  {
   "cell_type": "code",
   "execution_count": 60,
   "outputs": [],
   "source": [
    "def get_resnet_descriptors(path):\n",
    "    images = []\n",
    "    labels = []\n",
    "    folders = [\n",
    "        \"piese_portocalii\",\n",
    "        \"piese_verzi\",\n",
    "        \"pozitii_libere\"\n",
    "    ]\n",
    "    for clasa in folders:\n",
    "        # clas=f.replace(path,'')\n",
    "\n",
    "        normalize = transforms.Normalize(mean=[0.485, 0.456, 0.406],\n",
    "                                         std=[0.229, 0.224, 0.225])\n",
    "        to_tensor = transforms.ToTensor()\n",
    "        scaler = transforms.Resize((50, 50))\n",
    "        model = models.resnet18(pretrained=True)\n",
    "        layer = model._modules.get('avgpool')\n",
    "        model.eval()\n",
    "\n",
    "\n",
    "        print(clasa + \" \" + path)\n",
    "        files = glob.glob(path + clasa + '\\\\*jpg')\n",
    "        for file in files:\n",
    "            img_cv = cv.imread(file)\n",
    "\n",
    "            img_PIL = Image.fromarray(img_cv)\n",
    "            t_img = Variable(normalize(to_tensor(scaler(img_PIL))).unsqueeze(0))\n",
    "            my_embedding = torch.zeros(512)\n",
    "            def copy_data(m, i, o):\n",
    "                my_embedding.copy_(o.data.reshape(o.data.size(1)))\n",
    "            h = layer.register_forward_hook(copy_data)\n",
    "            model(t_img)\n",
    "            h.remove()\n",
    "            my_embedding = my_embedding.numpy()\n",
    "\n",
    "            images.append(my_embedding)\n",
    "            labels.append(clasa)\n",
    "    images = np.array(images)\n",
    "    labels = np.array(labels)\n",
    "    return images, labels"
   ],
   "metadata": {
    "collapsed": false
   }
  },
  {
   "cell_type": "code",
   "execution_count": 61,
   "id": "30b5b6e9",
   "metadata": {},
   "outputs": [],
   "source": [
    "def get_flatten_images(images):\n",
    "    images_flatten = []\n",
    "    for image in images:\n",
    "        image = cv.cvtColor(image, cv.COLOR_BGR2GRAY)\n",
    "        image = image.flatten()\n",
    "        images_flatten.append(image)\n",
    "    images_flatten = np.array(images_flatten)\n",
    "    return images_flatten"
   ]
  },
  {
   "cell_type": "code",
   "execution_count": 62,
   "id": "880e5051",
   "metadata": {},
   "outputs": [],
   "source": [
    "def get_gray_histogram(images):\n",
    "    gray_histograms = []\n",
    "    for image in images:\n",
    "        image = cv.cvtColor(image, cv.COLOR_BGR2GRAY)\n",
    "        hist = cv.calcHist([image], [0], None, [256], [0, 256])\n",
    "        gray_histograms.append(hist.flatten())\n",
    "    gray_histograms = np.array(gray_histograms)\n",
    "    return gray_histograms"
   ]
  },
  {
   "cell_type": "code",
   "execution_count": 63,
   "id": "440eb474",
   "metadata": {},
   "outputs": [],
   "source": [
    "def get_rgb_histogram(images):\n",
    "    color_histograms = []\n",
    "    for img in images:\n",
    "        hist = cv.calcHist([img], [0, 1, 2], None, [8, 8, 8], [0, 256, 0, 256, 0, 256])\n",
    "        color_histograms.append(hist.flatten())\n",
    "    color_histograms = np.array(color_histograms)\n",
    "    return color_histograms"
   ]
  },
  {
   "cell_type": "code",
   "execution_count": 64,
   "id": "7c34f104",
   "metadata": {},
   "outputs": [],
   "source": [
    "def get_hog_descriptors(images):\n",
    "    descriptors = []\n",
    "    for img in images:\n",
    "        img = cv.cvtColor(img, cv.COLOR_BGR2GRAY)\n",
    "        features = hog(img, pixels_per_cell=(8, 8), orientations=9, cells_per_block=(2, 2), block_norm='L2-Hys', feature_vector=True)\n",
    "        descriptors.append(features)\n",
    "    descriptors = np.array(descriptors)\n",
    "    return descriptors"
   ]
  },
  {
   "cell_type": "markdown",
   "id": "96bcc185",
   "metadata": {},
   "source": [
    "### Calcularea descriptorilor pentru imaginile de antrenare si testare"
   ]
  },
  {
   "cell_type": "code",
   "execution_count": 65,
   "id": "6833614c",
   "metadata": {},
   "outputs": [],
   "source": [
    "train_images_flatten = get_flatten_images(train_images)\n",
    "test_images_flatten = get_flatten_images(test_images)"
   ]
  },
  {
   "cell_type": "code",
   "execution_count": 66,
   "id": "2eaae100",
   "metadata": {},
   "outputs": [],
   "source": [
    "train_images_gray_hist = get_gray_histogram(train_images)\n",
    "test_images_gray_hist = get_gray_histogram(test_images)"
   ]
  },
  {
   "cell_type": "code",
   "execution_count": 67,
   "id": "1c4dbbc7",
   "metadata": {},
   "outputs": [],
   "source": [
    "train_images_color_hist = get_rgb_histogram(train_images)\n",
    "test_images_color_hist = get_rgb_histogram(test_images)"
   ]
  },
  {
   "cell_type": "code",
   "execution_count": 68,
   "id": "f9609822",
   "metadata": {},
   "outputs": [],
   "source": [
    "train_images_hog = get_hog_descriptors(train_images)\n",
    "test_images_hog = get_hog_descriptors(test_images)"
   ]
  },
  {
   "cell_type": "code",
   "execution_count": 69,
   "outputs": [
    {
     "name": "stdout",
     "output_type": "stream",
     "text": [
      "piese_portocalii ..\\resources\\train\\\n"
     ]
    },
    {
     "ename": "RuntimeError",
     "evalue": "The size of tensor a (250) must match the size of tensor b (512) at non-singleton dimension 0",
     "output_type": "error",
     "traceback": [
      "\u001B[1;31m---------------------------------------------------------------------------\u001B[0m",
      "\u001B[1;31mRuntimeError\u001B[0m                              Traceback (most recent call last)",
      "Cell \u001B[1;32mIn[69], line 2\u001B[0m\n\u001B[0;32m      1\u001B[0m path \u001B[38;5;241m=\u001B[39m \u001B[38;5;124m'\u001B[39m\u001B[38;5;124m..\u001B[39m\u001B[38;5;130;01m\\\\\u001B[39;00m\u001B[38;5;124mresources\u001B[39m\u001B[38;5;130;01m\\\\\u001B[39;00m\u001B[38;5;124mtrain\u001B[39m\u001B[38;5;130;01m\\\\\u001B[39;00m\u001B[38;5;124m'\u001B[39m\n\u001B[1;32m----> 2\u001B[0m train_images_resnet, train_labels_resnet \u001B[38;5;241m=\u001B[39m \u001B[43mget_resnet_descriptors\u001B[49m\u001B[43m(\u001B[49m\u001B[43mpath\u001B[49m\u001B[43m)\u001B[49m\n\u001B[0;32m      4\u001B[0m path \u001B[38;5;241m=\u001B[39m \u001B[38;5;124m'\u001B[39m\u001B[38;5;124m..\u001B[39m\u001B[38;5;130;01m\\\\\u001B[39;00m\u001B[38;5;124mresources\u001B[39m\u001B[38;5;130;01m\\\\\u001B[39;00m\u001B[38;5;124mtest\u001B[39m\u001B[38;5;130;01m\\\\\u001B[39;00m\u001B[38;5;124m'\u001B[39m\n\u001B[0;32m      5\u001B[0m test_images_resnet, test_labels_resnet \u001B[38;5;241m=\u001B[39m get_resnet_descriptors(path)\n",
      "Cell \u001B[1;32mIn[60], line 32\u001B[0m, in \u001B[0;36mget_resnet_descriptors\u001B[1;34m(path)\u001B[0m\n\u001B[0;32m     30\u001B[0m     my_embedding\u001B[38;5;241m.\u001B[39mcopy_(o\u001B[38;5;241m.\u001B[39mdata\u001B[38;5;241m.\u001B[39mreshape(o\u001B[38;5;241m.\u001B[39mdata\u001B[38;5;241m.\u001B[39msize(\u001B[38;5;241m1\u001B[39m)))\n\u001B[0;32m     31\u001B[0m h \u001B[38;5;241m=\u001B[39m layer\u001B[38;5;241m.\u001B[39mregister_forward_hook(copy_data)\n\u001B[1;32m---> 32\u001B[0m \u001B[43mmodel\u001B[49m\u001B[43m(\u001B[49m\u001B[43mt_img\u001B[49m\u001B[43m)\u001B[49m\n\u001B[0;32m     33\u001B[0m h\u001B[38;5;241m.\u001B[39mremove()\n\u001B[0;32m     34\u001B[0m my_embedding \u001B[38;5;241m=\u001B[39m my_embedding\u001B[38;5;241m.\u001B[39mnumpy()\n",
      "File \u001B[1;32m~\\AppData\\Local\\Programs\\Python\\Python38\\lib\\site-packages\\torch\\nn\\modules\\module.py:1194\u001B[0m, in \u001B[0;36mModule._call_impl\u001B[1;34m(self, *input, **kwargs)\u001B[0m\n\u001B[0;32m   1190\u001B[0m \u001B[38;5;66;03m# If we don't have any hooks, we want to skip the rest of the logic in\u001B[39;00m\n\u001B[0;32m   1191\u001B[0m \u001B[38;5;66;03m# this function, and just call forward.\u001B[39;00m\n\u001B[0;32m   1192\u001B[0m \u001B[38;5;28;01mif\u001B[39;00m \u001B[38;5;129;01mnot\u001B[39;00m (\u001B[38;5;28mself\u001B[39m\u001B[38;5;241m.\u001B[39m_backward_hooks \u001B[38;5;129;01mor\u001B[39;00m \u001B[38;5;28mself\u001B[39m\u001B[38;5;241m.\u001B[39m_forward_hooks \u001B[38;5;129;01mor\u001B[39;00m \u001B[38;5;28mself\u001B[39m\u001B[38;5;241m.\u001B[39m_forward_pre_hooks \u001B[38;5;129;01mor\u001B[39;00m _global_backward_hooks\n\u001B[0;32m   1193\u001B[0m         \u001B[38;5;129;01mor\u001B[39;00m _global_forward_hooks \u001B[38;5;129;01mor\u001B[39;00m _global_forward_pre_hooks):\n\u001B[1;32m-> 1194\u001B[0m     \u001B[38;5;28;01mreturn\u001B[39;00m \u001B[43mforward_call\u001B[49m\u001B[43m(\u001B[49m\u001B[38;5;241;43m*\u001B[39;49m\u001B[38;5;28;43minput\u001B[39;49m\u001B[43m,\u001B[49m\u001B[43m \u001B[49m\u001B[38;5;241;43m*\u001B[39;49m\u001B[38;5;241;43m*\u001B[39;49m\u001B[43mkwargs\u001B[49m\u001B[43m)\u001B[49m\n\u001B[0;32m   1195\u001B[0m \u001B[38;5;66;03m# Do not call functions when jit is used\u001B[39;00m\n\u001B[0;32m   1196\u001B[0m full_backward_hooks, non_full_backward_hooks \u001B[38;5;241m=\u001B[39m [], []\n",
      "File \u001B[1;32m~\\AppData\\Local\\Programs\\Python\\Python38\\lib\\site-packages\\torchvision\\models\\resnet.py:285\u001B[0m, in \u001B[0;36mResNet.forward\u001B[1;34m(self, x)\u001B[0m\n\u001B[0;32m    284\u001B[0m \u001B[38;5;28;01mdef\u001B[39;00m \u001B[38;5;21mforward\u001B[39m(\u001B[38;5;28mself\u001B[39m, x: Tensor) \u001B[38;5;241m-\u001B[39m\u001B[38;5;241m>\u001B[39m Tensor:\n\u001B[1;32m--> 285\u001B[0m     \u001B[38;5;28;01mreturn\u001B[39;00m \u001B[38;5;28;43mself\u001B[39;49m\u001B[38;5;241;43m.\u001B[39;49m\u001B[43m_forward_impl\u001B[49m\u001B[43m(\u001B[49m\u001B[43mx\u001B[49m\u001B[43m)\u001B[49m\n",
      "File \u001B[1;32m~\\AppData\\Local\\Programs\\Python\\Python38\\lib\\site-packages\\torchvision\\models\\resnet.py:278\u001B[0m, in \u001B[0;36mResNet._forward_impl\u001B[1;34m(self, x)\u001B[0m\n\u001B[0;32m    275\u001B[0m x \u001B[38;5;241m=\u001B[39m \u001B[38;5;28mself\u001B[39m\u001B[38;5;241m.\u001B[39mlayer3(x)\n\u001B[0;32m    276\u001B[0m x \u001B[38;5;241m=\u001B[39m \u001B[38;5;28mself\u001B[39m\u001B[38;5;241m.\u001B[39mlayer4(x)\n\u001B[1;32m--> 278\u001B[0m x \u001B[38;5;241m=\u001B[39m \u001B[38;5;28;43mself\u001B[39;49m\u001B[38;5;241;43m.\u001B[39;49m\u001B[43mavgpool\u001B[49m\u001B[43m(\u001B[49m\u001B[43mx\u001B[49m\u001B[43m)\u001B[49m\n\u001B[0;32m    279\u001B[0m x \u001B[38;5;241m=\u001B[39m torch\u001B[38;5;241m.\u001B[39mflatten(x, \u001B[38;5;241m1\u001B[39m)\n\u001B[0;32m    280\u001B[0m x \u001B[38;5;241m=\u001B[39m \u001B[38;5;28mself\u001B[39m\u001B[38;5;241m.\u001B[39mfc(x)\n",
      "File \u001B[1;32m~\\AppData\\Local\\Programs\\Python\\Python38\\lib\\site-packages\\torch\\nn\\modules\\module.py:1215\u001B[0m, in \u001B[0;36mModule._call_impl\u001B[1;34m(self, *input, **kwargs)\u001B[0m\n\u001B[0;32m   1213\u001B[0m \u001B[38;5;28;01mif\u001B[39;00m _global_forward_hooks \u001B[38;5;129;01mor\u001B[39;00m \u001B[38;5;28mself\u001B[39m\u001B[38;5;241m.\u001B[39m_forward_hooks:\n\u001B[0;32m   1214\u001B[0m     \u001B[38;5;28;01mfor\u001B[39;00m hook \u001B[38;5;129;01min\u001B[39;00m (\u001B[38;5;241m*\u001B[39m_global_forward_hooks\u001B[38;5;241m.\u001B[39mvalues(), \u001B[38;5;241m*\u001B[39m\u001B[38;5;28mself\u001B[39m\u001B[38;5;241m.\u001B[39m_forward_hooks\u001B[38;5;241m.\u001B[39mvalues()):\n\u001B[1;32m-> 1215\u001B[0m         hook_result \u001B[38;5;241m=\u001B[39m \u001B[43mhook\u001B[49m\u001B[43m(\u001B[49m\u001B[38;5;28;43mself\u001B[39;49m\u001B[43m,\u001B[49m\u001B[43m \u001B[49m\u001B[38;5;28;43minput\u001B[39;49m\u001B[43m,\u001B[49m\u001B[43m \u001B[49m\u001B[43mresult\u001B[49m\u001B[43m)\u001B[49m\n\u001B[0;32m   1216\u001B[0m         \u001B[38;5;28;01mif\u001B[39;00m hook_result \u001B[38;5;129;01mis\u001B[39;00m \u001B[38;5;129;01mnot\u001B[39;00m \u001B[38;5;28;01mNone\u001B[39;00m:\n\u001B[0;32m   1217\u001B[0m             result \u001B[38;5;241m=\u001B[39m hook_result\n",
      "Cell \u001B[1;32mIn[60], line 30\u001B[0m, in \u001B[0;36mget_resnet_descriptors.<locals>.copy_data\u001B[1;34m(m, i, o)\u001B[0m\n\u001B[0;32m     29\u001B[0m \u001B[38;5;28;01mdef\u001B[39;00m \u001B[38;5;21mcopy_data\u001B[39m(m, i, o):\n\u001B[1;32m---> 30\u001B[0m     \u001B[43mmy_embedding\u001B[49m\u001B[38;5;241;43m.\u001B[39;49m\u001B[43mcopy_\u001B[49m\u001B[43m(\u001B[49m\u001B[43mo\u001B[49m\u001B[38;5;241;43m.\u001B[39;49m\u001B[43mdata\u001B[49m\u001B[38;5;241;43m.\u001B[39;49m\u001B[43mreshape\u001B[49m\u001B[43m(\u001B[49m\u001B[43mo\u001B[49m\u001B[38;5;241;43m.\u001B[39;49m\u001B[43mdata\u001B[49m\u001B[38;5;241;43m.\u001B[39;49m\u001B[43msize\u001B[49m\u001B[43m(\u001B[49m\u001B[38;5;241;43m1\u001B[39;49m\u001B[43m)\u001B[49m\u001B[43m)\u001B[49m\u001B[43m)\u001B[49m\n",
      "\u001B[1;31mRuntimeError\u001B[0m: The size of tensor a (250) must match the size of tensor b (512) at non-singleton dimension 0"
     ]
    }
   ],
   "source": [
    "path = '..\\\\resources\\\\train\\\\'\n",
    "train_images_resnet, train_labels_resnet = get_resnet_descriptors(path)\n",
    "\n",
    "path = '..\\\\resources\\\\test\\\\'\n",
    "test_images_resnet, test_labels_resnet = get_resnet_descriptors(path)"
   ],
   "metadata": {
    "collapsed": false
   }
  },
  {
   "cell_type": "markdown",
   "id": "d1e36d83",
   "metadata": {},
   "source": [
    "### Antrenarea unui SVM liniar cu diferiti descriptori"
   ]
  },
  {
   "cell_type": "code",
   "execution_count": null,
   "outputs": [],
   "source": [
    "print(train_labels[:3])"
   ],
   "metadata": {
    "collapsed": false
   }
  },
  {
   "cell_type": "code",
   "execution_count": null,
   "id": "61929e7b",
   "metadata": {},
   "outputs": [],
   "source": [
    "best_accuracy = 0\n",
    "best_c = 0\n",
    "best_model = None\n",
    "Cs = [10 ** -5, 10 ** -4, 10 ** -3, 10 ** -2, 10 ** -1, 10 ** 0]\n",
    "for c in Cs:\n",
    "    print('Antrenam un clasificator pentru c=%f' % c)\n",
    "    model = LinearSVC(C=c)\n",
    "    model.fit(train_images_resnet, train_labels_resnet)\n",
    "    acc = model.score(train_images_resnet, train_labels_resnet)\n",
    "    print(acc)\n",
    "    if acc > best_accuracy:\n",
    "        best_accuracy = acc\n",
    "        best_c = c\n",
    "        best_model = deepcopy(model)\n",
    "\n",
    "print('Performanta clasificatorului optim pt c = %f' % best_c)\n",
    "\n",
    "# salvam cel mai bun model\n",
    "dump(best_model,\"model_clasificare_piesa.joblib\")\n",
    "\n",
    "# incarcam modelul\n",
    "load(\"model_clasificare_piesa.joblib\")"
   ]
  },
  {
   "cell_type": "code",
   "execution_count": 70,
   "id": "0e02def9",
   "metadata": {},
   "outputs": [
    {
     "name": "stdout",
     "output_type": "stream",
     "text": [
      "['piese_portocalii' 'piese_portocalii' 'piese_portocalii'\n",
      " 'piese_portocalii' 'piese_portocalii' 'piese_portocalii'\n",
      " 'piese_portocalii' 'piese_portocalii' 'piese_portocalii'\n",
      " 'piese_portocalii' 'piese_portocalii' 'piese_portocalii'\n",
      " 'piese_portocalii' 'piese_portocalii' 'piese_portocalii'\n",
      " 'piese_portocalii' 'piese_portocalii' 'piese_portocalii'\n",
      " 'piese_portocalii' 'piese_portocalii' 'piese_portocalii'\n",
      " 'piese_portocalii' 'piese_portocalii' 'piese_portocalii'\n",
      " 'piese_portocalii' 'piese_portocalii' 'piese_portocalii'\n",
      " 'piese_portocalii' 'piese_portocalii' 'piese_portocalii'\n",
      " 'piese_portocalii' 'piese_portocalii' 'piese_portocalii'\n",
      " 'piese_portocalii' 'piese_portocalii' 'piese_portocalii'\n",
      " 'piese_portocalii' 'piese_portocalii' 'piese_portocalii'\n",
      " 'piese_portocalii' 'piese_portocalii' 'piese_portocalii'\n",
      " 'piese_portocalii' 'piese_portocalii' 'piese_portocalii'\n",
      " 'piese_portocalii' 'piese_portocalii' 'piese_portocalii'\n",
      " 'piese_portocalii' 'piese_portocalii' 'piese_portocalii'\n",
      " 'piese_portocalii' 'piese_portocalii' 'piese_portocalii'\n",
      " 'piese_portocalii' 'piese_portocalii' 'piese_portocalii'\n",
      " 'piese_portocalii' 'piese_portocalii' 'piese_portocalii'\n",
      " 'piese_portocalii' 'piese_verzi' 'piese_verzi' 'piese_verzi'\n",
      " 'piese_verzi' 'piese_verzi' 'piese_verzi' 'piese_verzi' 'piese_verzi'\n",
      " 'piese_verzi' 'piese_verzi' 'piese_verzi' 'piese_verzi' 'piese_verzi'\n",
      " 'piese_verzi' 'piese_verzi' 'piese_verzi' 'piese_verzi' 'piese_verzi'\n",
      " 'piese_verzi' 'piese_verzi' 'piese_verzi' 'piese_verzi' 'piese_verzi'\n",
      " 'piese_verzi' 'piese_verzi' 'piese_verzi' 'piese_verzi' 'piese_verzi'\n",
      " 'piese_verzi' 'piese_verzi' 'piese_verzi' 'piese_verzi' 'piese_verzi'\n",
      " 'piese_verzi' 'piese_verzi' 'piese_verzi' 'piese_verzi' 'piese_verzi'\n",
      " 'piese_verzi' 'piese_verzi' 'piese_verzi' 'piese_verzi' 'piese_verzi'\n",
      " 'piese_verzi' 'piese_verzi' 'piese_verzi' 'piese_verzi' 'piese_verzi'\n",
      " 'piese_verzi' 'piese_verzi' 'piese_verzi' 'piese_verzi' 'piese_verzi'\n",
      " 'piese_verzi' 'piese_verzi' 'piese_verzi' 'piese_verzi' 'piese_verzi'\n",
      " 'piese_verzi' 'piese_verzi' 'piese_verzi' 'piese_verzi' 'piese_verzi'\n",
      " 'piese_verzi' 'pozitii_libere' 'pozitii_libere' 'pozitii_libere'\n",
      " 'pozitii_libere' 'pozitii_libere' 'pozitii_libere' 'pozitii_libere'\n",
      " 'pozitii_libere' 'pozitii_libere' 'pozitii_libere' 'pozitii_libere'\n",
      " 'pozitii_libere' 'pozitii_libere' 'pozitii_libere' 'pozitii_libere'\n",
      " 'pozitii_libere' 'pozitii_libere' 'pozitii_libere' 'pozitii_libere'\n",
      " 'pozitii_libere' 'pozitii_libere' 'pozitii_libere' 'pozitii_libere'\n",
      " 'pozitii_libere' 'pozitii_libere' 'pozitii_libere' 'pozitii_libere'\n",
      " 'pozitii_libere' 'pozitii_libere' 'pozitii_libere' 'pozitii_libere'\n",
      " 'pozitii_libere' 'pozitii_libere' 'pozitii_libere' 'pozitii_libere'\n",
      " 'pozitii_libere' 'pozitii_libere' 'pozitii_libere' 'pozitii_libere'\n",
      " 'pozitii_libere' 'pozitii_libere' 'pozitii_libere' 'pozitii_libere'\n",
      " 'pozitii_libere' 'pozitii_libere' 'pozitii_libere' 'pozitii_libere'\n",
      " 'pozitii_libere' 'pozitii_libere' 'pozitii_libere' 'pozitii_libere'\n",
      " 'pozitii_libere' 'pozitii_libere' 'pozitii_libere']\n",
      "179\n",
      "1.0\n"
     ]
    }
   ],
   "source": [
    "predicted_labels = best_model.predict(test_images_resnet)\n",
    "print(predicted_labels)\n",
    "print(len(predicted_labels))\n",
    "print(accuracy_score(test_labels_resnet, predicted_labels))"
   ]
  }
 ],
 "metadata": {
  "kernelspec": {
   "display_name": "Python 3 (ipykernel)",
   "language": "python",
   "name": "python3"
  },
  "language_info": {
   "codemirror_mode": {
    "name": "ipython",
    "version": 3
   },
   "file_extension": ".py",
   "mimetype": "text/x-python",
   "name": "python",
   "nbconvert_exporter": "python",
   "pygments_lexer": "ipython3",
   "version": "3.8.11"
  }
 },
 "nbformat": 4,
 "nbformat_minor": 5
}
