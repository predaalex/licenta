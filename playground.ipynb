{
 "cells": [
  {
   "cell_type": "code",
   "execution_count": 99,
   "metadata": {
    "collapsed": true
   },
   "outputs": [],
   "source": [
    "import numpy as np\n",
    "import pygame\n",
    "import sys\n"
   ]
  },
  {
   "cell_type": "code",
   "execution_count": 100,
   "outputs": [
    {
     "name": "stdout",
     "output_type": "stream",
     "text": [
      "1 1\n"
     ]
    }
   ],
   "source": [
    "\n",
    "# PARAMETERS\n",
    "\n",
    "GUI = True\n",
    "tabel_coords = np.array([\n",
    "                 (1,1), (7,1), (13,1),\n",
    "                 (3,3), (7,3), (11,3),\n",
    "                 (5,5), (7,5), (9,5),\n",
    "                 (1,7), (3,7), (5,7),\n",
    "                 (9,7), (11,7), (13,7),\n",
    "                 (5,9), (7,9), (9,9),\n",
    "                 (3,11), (7,11), (11,11),\n",
    "                 (1,13), (7,13), (13,13)],\n",
    "                dtype=[('x', 'i4'),('y', 'i4')])\n",
    "\n",
    "print(tabel_coords['x'][0], tabel_coords['y'][0])\n"
   ],
   "metadata": {
    "collapsed": false
   }
  },
  {
   "cell_type": "code",
   "execution_count": 101,
   "outputs": [],
   "source": [
    "class Joc:\n",
    "    def __init__(self):\n",
    "        self.pozitii = np.zeros(24, dtype=int)\n",
    "        self.jmin_num_piese = 9\n",
    "        self.jmax_num_piese = 9\n",
    "\n",
    "    def __str__(self):\n",
    "        return self.afisare_tabla()\n",
    "\n",
    "    def afisare_tabla(self):\n",
    "        result = \"\"\n",
    "        # consideram X jucatorul 1 si 0 jucatorul 2\n",
    "\n",
    "        # linia 1\n",
    "        result += str(self.pozitii[0])\n",
    "        for i in range(5):\n",
    "            result += \"-\"\n",
    "        result += str(self.pozitii[1])\n",
    "        for i in range(5):\n",
    "            result += \"-\"\n",
    "        result += str(self.pozitii[2])\n",
    "        result += \"\\n\"\n",
    "\n",
    "        # linia 2\n",
    "        for i in range(13):\n",
    "            if i in (0, 6, 12):\n",
    "                result += \"|\"\n",
    "            else:\n",
    "                result += \" \"\n",
    "        result += \"\\n\"\n",
    "\n",
    "\n",
    "        # linia 3\n",
    "        result += \"|\"\n",
    "        result += \" \"\n",
    "        result += str(self.pozitii[3])\n",
    "        for i in range(3):\n",
    "            result += \"-\"\n",
    "        result += str(self.pozitii[4])\n",
    "        for i in range(3):\n",
    "            result += \"-\"\n",
    "        result += str(self.pozitii[5])\n",
    "        result += \" \"\n",
    "        result += \"|\"\n",
    "        result += \"\\n\"\n",
    "\n",
    "        # linia 4\n",
    "        result += \"|\"\n",
    "        result += \" \"\n",
    "        result += \"|\"\n",
    "        for i in range(3):\n",
    "            result += \" \"\n",
    "        result += \"|\"\n",
    "        for i in range(3):\n",
    "            result += \" \"\n",
    "        result += \"|\"\n",
    "        result += \" \"\n",
    "        result += \"|\"\n",
    "        result += \"\\n\"\n",
    "\n",
    "        # linia 5\n",
    "        result += \"|\"\n",
    "        result += \" \"\n",
    "        result += \"|\"\n",
    "        result += \" \"\n",
    "        result += str(self.pozitii[6])\n",
    "        result += \"-\"\n",
    "        result += str(self.pozitii[7])\n",
    "        result += \"-\"\n",
    "        result += str(self.pozitii[8])\n",
    "        result += \" \"\n",
    "        result += \"|\"\n",
    "        result += \" \"\n",
    "        result += \"|\"\n",
    "        result += \"\\n\"\n",
    "\n",
    "        # linia 6\n",
    "        for i in range(3):\n",
    "            result += \"| \"\n",
    "        for i in range(2):\n",
    "            result += \" \"\n",
    "        result += \"|\"\n",
    "        for i in range(2):\n",
    "            result += \" |\"\n",
    "        result += \"\\n\"\n",
    "\n",
    "        # linia 7\n",
    "        result += str(self.pozitii[9])\n",
    "        result += \"-\"\n",
    "        result += str(self.pozitii[10])\n",
    "        result += \"-\"\n",
    "        result += str(self.pozitii[11])\n",
    "        for i in range(3):\n",
    "            result += \" \"\n",
    "        result += str(self.pozitii[12])\n",
    "        result += \"-\"\n",
    "        result += str(self.pozitii[13])\n",
    "        result += \"-\"\n",
    "        result += str(self.pozitii[14])\n",
    "        result += \"\\n\"\n",
    "\n",
    "        # linia 8\n",
    "        for i in range(2):\n",
    "            result += \"| \"\n",
    "        result += \"|\"\n",
    "        for i in range(3):\n",
    "            result += \" \"\n",
    "        result += \"|\"\n",
    "        for i in range(2):\n",
    "            result += \" |\"\n",
    "        result += \"\\n\"\n",
    "\n",
    "        # linia 9\n",
    "        result += \"|\"\n",
    "        result += \" \"\n",
    "        result += \"|\"\n",
    "        result += \" \"\n",
    "        result += str(self.pozitii[15])\n",
    "        result += \"-\"\n",
    "        result += str(self.pozitii[16])\n",
    "        result += \"-\"\n",
    "        result += str(self.pozitii[17])\n",
    "        result += \" \"\n",
    "        result += \"|\"\n",
    "        result += \" \"\n",
    "        result += \"|\"\n",
    "        result += \"\\n\"\n",
    "\n",
    "        # linia 10\n",
    "        result += \"|\"\n",
    "        result += \" \"\n",
    "        result += \"|\"\n",
    "        for i in range(3):\n",
    "            result += \" \"\n",
    "        result += \"|\"\n",
    "        for i in range(3):\n",
    "            result += \" \"\n",
    "        result += \"|\"\n",
    "        result += \" \"\n",
    "        result += \"|\"\n",
    "        result += \"\\n\"\n",
    "\n",
    "        # linia 11\n",
    "        result += \"|\"\n",
    "        result += \" \"\n",
    "        result += str(self.pozitii[18])\n",
    "        for i in range(3):\n",
    "            result += \"-\"\n",
    "        result += str(self.pozitii[19])\n",
    "        for i in range(3):\n",
    "            result += \"-\"\n",
    "        result += str(self.pozitii[20])\n",
    "        result += \" \"\n",
    "        result += \"|\"\n",
    "        result += \"\\n\"\n",
    "\n",
    "        # linia 12\n",
    "        for i in range(13):\n",
    "            if i in (0, 6, 12):\n",
    "                result += \"|\"\n",
    "            else:\n",
    "                result += \" \"\n",
    "        result += \"\\n\"\n",
    "\n",
    "        # linia 13\n",
    "        result += str(self.pozitii[21])\n",
    "        for i in range(5):\n",
    "            result += \"-\"\n",
    "        result += str(self.pozitii[22])\n",
    "        for i in range(5):\n",
    "            result += \"-\"\n",
    "        result += str(self.pozitii[23])\n",
    "        result += \"\\n\"\n",
    "\n",
    "        return result\n"
   ],
   "metadata": {
    "collapsed": false
   }
  },
  {
   "cell_type": "code",
   "execution_count": 102,
   "outputs": [],
   "source": [
    "def main():\n",
    "    # initializare tabla\n",
    "    tabla_curenta = Joc()\n",
    "    print(\"Tabla initiala\")\n",
    "    print(str(tabla_curenta))\n",
    "\n",
    "    # creare stare initiala\n"
   ],
   "metadata": {
    "collapsed": false
   }
  },
  {
   "cell_type": "code",
   "execution_count": 104,
   "outputs": [
    {
     "name": "stdout",
     "output_type": "stream",
     "text": [
      "Tabla initiala\n",
      "0-----0-----0\n",
      "|     |     |\n",
      "| 0---0---0 |\n",
      "| |   |   | |\n",
      "| | 0-0-0 | |\n",
      "| | |   | | |\n",
      "0-0-0   0-0-0\n",
      "| | |   | | |\n",
      "| | 0-0-0 | |\n",
      "| |   |   | |\n",
      "| 0---0---0 |\n",
      "|     |     |\n",
      "0-----0-----0\n",
      "\n"
     ]
    },
    {
     "ename": "error",
     "evalue": "video system not initialized",
     "output_type": "error",
     "traceback": [
      "\u001B[1;31m---------------------------------------------------------------------------\u001B[0m",
      "\u001B[1;31merror\u001B[0m                                     Traceback (most recent call last)",
      "Cell \u001B[1;32mIn[104], line 4\u001B[0m\n\u001B[0;32m      2\u001B[0m main()\n\u001B[0;32m      3\u001B[0m \u001B[38;5;28;01mwhile\u001B[39;00m \u001B[38;5;28;01mTrue\u001B[39;00m:\n\u001B[1;32m----> 4\u001B[0m     \u001B[38;5;28;01mfor\u001B[39;00m event \u001B[38;5;129;01min\u001B[39;00m \u001B[43mpygame\u001B[49m\u001B[38;5;241;43m.\u001B[39;49m\u001B[43mevent\u001B[49m\u001B[38;5;241;43m.\u001B[39;49m\u001B[43mget\u001B[49m\u001B[43m(\u001B[49m\u001B[43m)\u001B[49m:\n\u001B[0;32m      5\u001B[0m         \u001B[38;5;28;01mif\u001B[39;00m event\u001B[38;5;241m.\u001B[39mtype \u001B[38;5;241m==\u001B[39m pygame\u001B[38;5;241m.\u001B[39mQUIT:\n\u001B[0;32m      6\u001B[0m             pygame\u001B[38;5;241m.\u001B[39mquit()\n",
      "\u001B[1;31merror\u001B[0m: video system not initialized"
     ]
    }
   ],
   "source": [
    "if __name__ == \"__main__\":\n",
    "    main()\n",
    "    while True:\n",
    "        for event in pygame.event.get():\n",
    "            if event.type == pygame.QUIT:\n",
    "                pygame.quit()\n",
    "                sys.exit()"
   ],
   "metadata": {
    "collapsed": false
   }
  },
  {
   "cell_type": "code",
   "execution_count": 2,
   "outputs": [
    {
     "name": "stdout",
     "output_type": "stream",
     "text": [
      "Thread 1 thread startedThread 2 thread started\n",
      "\n",
      "Thread 1 thread finished\n",
      "Thread 2 thread finished\n"
     ]
    }
   ],
   "source": [
    "import threading\n",
    "import time\n",
    "\n",
    "def worker(name, delay):\n",
    "    \"\"\"Thread worker function\"\"\"\n",
    "    print(f'{name} thread started')\n",
    "    time.sleep(delay)\n",
    "    print(f'{name} thread finished')\n",
    "\n",
    "# Create two threads with different arguments\n",
    "t1 = threading.Thread(target=worker, args=('Thread 1', 2))\n",
    "t2 = threading.Thread(target=worker, args=('Thread 2', 5))\n",
    "\n",
    "# Start the threads\n",
    "t1.start()\n",
    "t2.start()\n",
    "\n",
    "# Wait for both threads to finish\n",
    "t1.join()\n",
    "t2.join()\n"
   ],
   "metadata": {
    "collapsed": false
   }
  },
  {
   "cell_type": "code",
   "execution_count": 3,
   "outputs": [
    {
     "name": "stdout",
     "output_type": "stream",
     "text": [
      "Worker thread startedMain thread doing some work...\n",
      "\n",
      "Worker thread finished\n"
     ]
    }
   ],
   "source": [
    "import threading\n",
    "\n",
    "# Create an event object\n",
    "event = threading.Event()\n",
    "\n",
    "# Define a function that will be executed in a separate thread\n",
    "def worker():\n",
    "    print(\"Worker thread started\")\n",
    "    event.wait() # Wait for the event to be set\n",
    "    print(\"Worker thread finished\")\n",
    "\n",
    "# Create a new thread and start it\n",
    "thread = threading.Thread(target=worker)\n",
    "thread.start()\n",
    "\n",
    "# Do some work in the main thread\n",
    "print(\"Main thread doing some work...\")\n",
    "\n",
    "# Set the event, signaling the worker thread to continue\n",
    "event.set()\n",
    "\n",
    "# Wait for the worker thread to finish\n",
    "thread.join()\n"
   ],
   "metadata": {
    "collapsed": false
   }
  }
 ],
 "metadata": {
  "kernelspec": {
   "display_name": "Python 3",
   "language": "python",
   "name": "python3"
  },
  "language_info": {
   "codemirror_mode": {
    "name": "ipython",
    "version": 2
   },
   "file_extension": ".py",
   "mimetype": "text/x-python",
   "name": "python",
   "nbconvert_exporter": "python",
   "pygments_lexer": "ipython2",
   "version": "2.7.6"
  }
 },
 "nbformat": 4,
 "nbformat_minor": 0
}
